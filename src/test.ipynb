{
 "cells": [
  {
   "cell_type": "code",
   "execution_count": 3,
   "metadata": {},
   "outputs": [
    {
     "name": "stdout",
     "output_type": "stream",
     "text": [
      "[[37, 76, 87, 11, 18, 96, 44, 3, 16, 90, 27, 46, 73, 10, 4, 81, 84, 66, 80, 7], [60, 91, 82, 57, 74, 24, 21, 42, 50, 43, 72, 71, 22, 89, 61, 86, 65, 62, 31, 9]]\n",
      "[1, 2, 5, 6, 8, 12, 13, 14, 15, 17, 19, 20, 23, 25, 26, 28, 29, 30, 32, 33, 34, 35, 36, 38, 39, 40, 41, 45, 47, 48, 49, 51, 52, 53, 54, 55, 56, 58, 59, 63, 64, 67, 68, 69, 70, 75, 77, 78, 79, 83, 85, 88, 92, 93, 94, 95, 97, 98, 99, 100]\n"
     ]
    }
   ],
   "source": [
    "\n",
    "from create_groups import create_groups\n",
    "\n",
    "n = 100 # number of inputs (synapses)\n",
    "m = 2 # number of groups\n",
    "k = 20 # number of cells in each group\n",
    "groups, remaining = create_groups(n, m, k)\n",
    "\n",
    "print(groups)\n",
    "print(remaining)\n"
   ]
  },
  {
   "cell_type": "code",
   "execution_count": 4,
   "metadata": {},
   "outputs": [
    {
     "name": "stdout",
     "output_type": "stream",
     "text": [
      "[list([1, 2, 3]) 0 0 0 0 list([4, 5, 6]) 0 0 0 0]\n"
     ]
    }
   ],
   "source": [
    "import numpy as np\n",
    "list_lists = np.zeros(10, dtype=list)\n",
    "list_lists[0] = [1,2,3]\n",
    "list_lists[5] = [4,5,6]\n",
    "print(list_lists)\n"
   ]
  },
  {
   "cell_type": "code",
   "execution_count": 13,
   "metadata": {},
   "outputs": [
    {
     "name": "stdout",
     "output_type": "stream",
     "text": [
      "[2 2 1 2 2 2 2 2 2 1 1 2 2 2 2 2 2 2 2 2 1 2 2 2 2 2 1 2 1 2]\n"
     ]
    }
   ],
   "source": [
    "from create_groups_probabilities import generate_random_vector\n",
    "\n",
    "vec = generate_random_vector([0.1, 0.9], 30)\n",
    "\n",
    "print(vec)"
   ]
  },
  {
   "cell_type": "code",
   "execution_count": 46,
   "metadata": {},
   "outputs": [
    {
     "name": "stdout",
     "output_type": "stream",
     "text": [
      "Randomized vector [4, 2, 1]\n",
      "The remaining matrix [[0 0 0 0 1 0 0 0 0 0]\n",
      " [0 0 1 0 0 0 0 0 0 0]\n",
      " [0 1 0 0 0 0 0 0 0 0]]\n",
      "The group matrix [[0 1 1 1 1 0 0 0 0 0]\n",
      " [0 0 0 0 1 1 1 0 0 0]\n",
      " [0 1 1 0 0 0 0 0 0 0]\n",
      " [0 0 1 0 1 0 1 0 1 1]]\n",
      "The input matrix [[0 1 1 1 1 0 0 0 0 0]\n",
      " [0 0 0 0 1 1 1 0 0 0]\n",
      " [0 1 1 0 0 0 0 0 0 0]\n",
      " [0 0 1 0 1 0 1 0 1 1]\n",
      " [0 0 0 0 1 0 0 0 0 0]\n",
      " [0 0 1 0 0 0 0 0 0 0]\n",
      " [0 1 0 0 0 0 0 0 0 0]]\n"
     ]
    }
   ],
   "source": [
    "\n",
    "import numpy as np\n",
    "import random\n",
    "\n",
    "numbers = [1, 2, 4]\n",
    "random.shuffle(numbers)\n",
    "print(\"Randomized vector\", numbers)\n",
    "n_groups = 4\n",
    "n_synapses = 10\n",
    "# Create a binary matrix with n rows and L columns\n",
    "remain_matrix = np.zeros((len(numbers), n_synapses), dtype=int)\n",
    "\n",
    "# Set the value 1 at the specific positions\n",
    "for idx, num in enumerate(numbers):\n",
    "    if 0 <= num < n_synapses:\n",
    "        remain_matrix[idx, num] = 1\n",
    "\n",
    "# Display the binary matrix\n",
    "print(\"The remaining matrix\", remain_matrix)\n",
    "\n",
    "groups_matrix = np.zeros((n_groups, n_synapses), dtype=int)\n",
    "for group, row in enumerate(groups):\n",
    "    # set 1 in binary matrix indexes of the group values\n",
    "    groups_matrix[group, row] = 1\n",
    "\n",
    "print(\"The group matrix\", groups_matrix)\n",
    "\n",
    "# concatenate the two matrices\n",
    "input_matrix = np.concatenate((groups_matrix, remain_matrix), axis=0)  \n",
    "\n",
    "print(\"The input matrix\", input_matrix)\n",
    "\n",
    "\n"
   ]
  },
  {
   "cell_type": "code",
   "execution_count": 33,
   "metadata": {},
   "outputs": [
    {
     "name": "stdout",
     "output_type": "stream",
     "text": [
      "range(0, 8)\n",
      "0\n",
      "1\n",
      "2\n",
      "3\n",
      "4\n",
      "5\n",
      "6\n",
      "7\n"
     ]
    }
   ],
   "source": [
    "n_groups = len(range(0, 100, 20))\n",
    "n_remaining = len(range(0, 6, 2))\n",
    "\n",
    "print(range(n_groups + n_remaining))\n",
    "for sequence in range(n_groups + n_remaining):\n",
    "    print(sequence)\n"
   ]
  },
  {
   "cell_type": "code",
   "execution_count": 9,
   "metadata": {},
   "outputs": [
    {
     "name": "stdout",
     "output_type": "stream",
     "text": [
      "[[0 1 1 1 1 0 0 0 0 0]\n",
      " [0 0 0 0 1 1 1 0 0 0]\n",
      " [0 1 1 0 0 0 0 0 0 0]\n",
      " [0 0 1 0 1 0 1 0 1 1]]\n"
     ]
    }
   ],
   "source": [
    "n_groups = 4\n",
    "n_synapses = 10\n",
    "groups = [[1, 2, 3, 4], [4, 5, 6], [1,2], [2,4,6,8,9]]\n",
    "\n",
    "binary_matrix = np.zeros((n_groups, n_synapses), dtype=int)\n",
    "for group, row in enumerate(groups):\n",
    "    # set 1 in binary matrix indexes of the group values\n",
    "    binary_matrix[group, row] = 1\n",
    "\n",
    "print(binary_matrix)\n"
   ]
  },
  {
   "cell_type": "code",
   "execution_count": 6,
   "metadata": {},
   "outputs": [
    {
     "name": "stdout",
     "output_type": "stream",
     "text": [
      "[1 3 1 1 3 1 3 3 2 1 2 2 3 3 1 1 1 1 1 3 1 1 1 3 3 1 1 3 3 1 1 3 2 1 1 3 2\n",
      " 1 1 1 3 1 3 3 3 1 1 3 1 1 3 3 3 1 1 1 1 1 1 2 1 3 3 1 3 1 1 3 2 3 1 1 3 3\n",
      " 1 2 1 1 1 3 1 1 3 3 3 2 3 1 1 1 1 1 2 3 3 3 1 1 1 1]\n"
     ]
    }
   ],
   "source": [
    "from create_groups_probabilities import generate_random_vector\n",
    "dt = 0.1\n",
    "dt_bin = 10\n",
    "\n",
    "group_probabilities = [0.5, 0.1, 0.4]\n",
    "bin_activation_vector = generate_random_vector(group_probabilities,int(dt_bin/dt))\n",
    "print(bin_activation_vector)\n"
   ]
  },
  {
   "cell_type": "code",
   "execution_count": 10,
   "metadata": {},
   "outputs": [
    {
     "ename": "IndexError",
     "evalue": "index 4 is out of bounds for axis 0 with size 1",
     "output_type": "error",
     "traceback": [
      "\u001b[1;31m---------------------------------------------------------------------------\u001b[0m",
      "\u001b[1;31mIndexError\u001b[0m                                Traceback (most recent call last)",
      "Cell \u001b[1;32mIn[10], line 4\u001b[0m\n\u001b[0;32m      2\u001b[0m n_synapses \u001b[38;5;241m=\u001b[39m \u001b[38;5;241m10\u001b[39m\n\u001b[0;32m      3\u001b[0m group_vector \u001b[38;5;241m=\u001b[39m np\u001b[38;5;241m.\u001b[39mzeros((\u001b[38;5;241m1\u001b[39m, n_synapses), dtype\u001b[38;5;241m=\u001b[39m\u001b[38;5;28mint\u001b[39m)\n\u001b[1;32m----> 4\u001b[0m \u001b[43mgroup_vector\u001b[49m\u001b[43m[\u001b[49m\u001b[43mgroups\u001b[49m\u001b[43m[\u001b[49m\u001b[38;5;241;43m1\u001b[39;49m\u001b[43m]\u001b[49m\u001b[43m]\u001b[49m \u001b[38;5;241m=\u001b[39m \u001b[38;5;241m1\u001b[39m\n\u001b[0;32m      5\u001b[0m \u001b[38;5;28mprint\u001b[39m(group_vector)\n",
      "\u001b[1;31mIndexError\u001b[0m: index 4 is out of bounds for axis 0 with size 1"
     ]
    }
   ],
   "source": [
    "import numpy as np\n",
    "n_synapses = 10\n",
    "group_vector = np.zeros((1, n_synapses), dtype=int)\n",
    "print(groups[1])\n",
    "group_vector[groups[1]] = 1\n",
    "print(group_vector)"
   ]
  }
 ],
 "metadata": {
  "kernelspec": {
   "display_name": "Pattern",
   "language": "python",
   "name": "python3"
  },
  "language_info": {
   "codemirror_mode": {
    "name": "ipython",
    "version": 3
   },
   "file_extension": ".py",
   "mimetype": "text/x-python",
   "name": "python",
   "nbconvert_exporter": "python",
   "pygments_lexer": "ipython3",
   "version": "3.11.7"
  }
 },
 "nbformat": 4,
 "nbformat_minor": 2
}
